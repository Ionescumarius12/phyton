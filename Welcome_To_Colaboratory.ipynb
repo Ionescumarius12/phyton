{
  "cells": [
    {
      "cell_type": "markdown",
      "metadata": {
        "id": "view-in-github",
        "colab_type": "text"
      },
      "source": [
        "<a href=\"https://colab.research.google.com/github/Ionescumarius12/phyton/blob/main/Welcome_To_Colaboratory.ipynb\" target=\"_parent\"><img src=\"https://colab.research.google.com/assets/colab-badge.svg\" alt=\"Open In Colab\"/></a>"
      ]
    },
    {
      "cell_type": "code",
      "source": [
        "print ('Salut, Ana')"
      ],
      "metadata": {
        "id": "KPo4y4jBYl_c",
        "outputId": "70ef4409-1417-40c2-9ac9-c51b97fe6034",
        "colab": {
          "base_uri": "https://localhost:8080/"
        }
      },
      "execution_count": 2,
      "outputs": [
        {
          "output_type": "stream",
          "name": "stdout",
          "text": [
            "Salut, Ana\n"
          ]
        }
      ]
    },
    {
      "cell_type": "code",
      "source": [
        "print (\"Salut, Ana\")"
      ],
      "metadata": {
        "id": "i3zb9PnNaQ7P",
        "outputId": "646733c8-7268-4733-99f1-87599e2daf6e",
        "colab": {
          "base_uri": "https://localhost:8080/"
        }
      },
      "execution_count": 12,
      "outputs": [
        {
          "output_type": "stream",
          "name": "stdout",
          "text": [
            "Salut, Ana\n"
          ]
        }
      ]
    },
    {
      "cell_type": "code",
      "source": [
        "print (type(\"Salut, Ana\"))"
      ],
      "metadata": {
        "id": "aGCfXMLJYtjL",
        "outputId": "a95eea1e-7d18-4425-8a28-afc144cd0612",
        "colab": {
          "base_uri": "https://localhost:8080/"
        }
      },
      "execution_count": 7,
      "outputs": [
        {
          "output_type": "stream",
          "name": "stdout",
          "text": [
            "<class 'str'>\n"
          ]
        }
      ]
    },
    {
      "cell_type": "code",
      "source": [
        "a=3\n",
        "b=4\n",
        "a*b"
      ],
      "metadata": {
        "id": "cZMQ5WArY8YN",
        "outputId": "e69aff6c-2147-42ee-a6c3-6c573e60d359",
        "colab": {
          "base_uri": "https://localhost:8080/"
        }
      },
      "execution_count": 9,
      "outputs": [
        {
          "output_type": "execute_result",
          "data": {
            "text/plain": [
              "12"
            ]
          },
          "metadata": {},
          "execution_count": 9
        }
      ]
    },
    {
      "cell_type": "code",
      "source": [
        "salut='Salut, Ana'\n",
        "print ('salut')"
      ],
      "metadata": {
        "id": "gwjtWXAxaBwO",
        "outputId": "72939404-9fad-4b8c-9ec1-86253458b24a",
        "colab": {
          "base_uri": "https://localhost:8080/"
        }
      },
      "execution_count": 10,
      "outputs": [
        {
          "output_type": "stream",
          "name": "stdout",
          "text": [
            "salut\n"
          ]
        }
      ]
    }
  ],
  "metadata": {
    "colab": {
      "name": "Welcome To Colaboratory",
      "toc_visible": true,
      "provenance": [],
      "include_colab_link": true
    },
    "kernelspec": {
      "display_name": "Python 3",
      "name": "python3"
    }
  },
  "nbformat": 4,
  "nbformat_minor": 0
}